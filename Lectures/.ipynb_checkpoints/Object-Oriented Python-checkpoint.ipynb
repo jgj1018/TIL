{
 "cells": [
  {
   "cell_type": "markdown",
   "metadata": {},
   "source": [
    "##### OOP\n",
    "- A paradigm for code organization and code\n",
    "- Organizes data into objects and functionality into methods.\n",
    "- Defines object specifications (data and methods) in classes\n",
    "- one definition of object: a unit of data that has associated functionality\n",
    "\n",
    "##### object-oriented python\n",
    "\n",
    "- Everything is an object, even numbers.\n",
    "- Other languages employ primitives (non-object data)\n",
    "\n",
    "##### what is an object?\n",
    "\n",
    "An object is a unit of data (having one or more attributes), of a particular class or type, with associated functionality (methods)\n"
   ]
  },
  {
   "cell_type": "code",
   "execution_count": 2,
   "metadata": {},
   "outputs": [
    {
     "name": "stdout",
     "output_type": "stream",
     "text": [
      "<class 'int'>\n",
      "<class 'str'>\n"
     ]
    },
    {
     "data": {
      "text/plain": [
       "<function print>"
      ]
     },
     "execution_count": 2,
     "metadata": {},
     "output_type": "execute_result"
    }
   ],
   "source": [
    "myint = 5\n",
    "mystr = 'hello'\n",
    "\n",
    "print(type(myint))\n",
    "print(type(mystr))\n",
    "\n",
    "print; print"
   ]
  },
  {
   "cell_type": "code",
   "execution_count": 4,
   "metadata": {},
   "outputs": [
    {
     "name": "stdout",
     "output_type": "stream",
     "text": [
      "<class 'list'>\n",
      "<class 'bool'>\n",
      "<class 'NoneType'>\n",
      "<class 'function'>\n",
      "<class 'type'>\n"
     ]
    },
    {
     "data": {
      "text/plain": [
       "<function print>"
      ]
     },
     "execution_count": 4,
     "metadata": {},
     "output_type": "execute_result"
    }
   ],
   "source": [
    "mylist = ['a', 'b', 'c']\n",
    "mybool = True\n",
    "mynone = None\n",
    "\n",
    "def myfunc():\n",
    "    print('hello')\n",
    "    \n",
    "print(type(mylist))\n",
    "print(type(mybool))\n",
    "print(type(mynone))\n",
    "print(type(myfunc))\n",
    "\n",
    "this_type = type(mylist)\n",
    "print(type(this_type))\n",
    "\n",
    "print; print"
   ]
  },
  {
   "cell_type": "code",
   "execution_count": 5,
   "metadata": {},
   "outputs": [
    {
     "data": {
      "text/plain": [
       "['__abs__',\n",
       " '__add__',\n",
       " '__and__',\n",
       " '__bool__',\n",
       " '__ceil__',\n",
       " '__class__',\n",
       " '__delattr__',\n",
       " '__dir__',\n",
       " '__divmod__',\n",
       " '__doc__',\n",
       " '__eq__',\n",
       " '__float__',\n",
       " '__floor__',\n",
       " '__floordiv__',\n",
       " '__format__',\n",
       " '__ge__',\n",
       " '__getattribute__',\n",
       " '__getnewargs__',\n",
       " '__gt__',\n",
       " '__hash__',\n",
       " '__index__',\n",
       " '__init__',\n",
       " '__init_subclass__',\n",
       " '__int__',\n",
       " '__invert__',\n",
       " '__le__',\n",
       " '__lshift__',\n",
       " '__lt__',\n",
       " '__mod__',\n",
       " '__mul__',\n",
       " '__ne__',\n",
       " '__neg__',\n",
       " '__new__',\n",
       " '__or__',\n",
       " '__pos__',\n",
       " '__pow__',\n",
       " '__radd__',\n",
       " '__rand__',\n",
       " '__rdivmod__',\n",
       " '__reduce__',\n",
       " '__reduce_ex__',\n",
       " '__repr__',\n",
       " '__rfloordiv__',\n",
       " '__rlshift__',\n",
       " '__rmod__',\n",
       " '__rmul__',\n",
       " '__ror__',\n",
       " '__round__',\n",
       " '__rpow__',\n",
       " '__rrshift__',\n",
       " '__rshift__',\n",
       " '__rsub__',\n",
       " '__rtruediv__',\n",
       " '__rxor__',\n",
       " '__setattr__',\n",
       " '__sizeof__',\n",
       " '__str__',\n",
       " '__sub__',\n",
       " '__subclasshook__',\n",
       " '__truediv__',\n",
       " '__trunc__',\n",
       " '__xor__',\n",
       " 'bit_length',\n",
       " 'conjugate',\n",
       " 'denominator',\n",
       " 'from_bytes',\n",
       " 'imag',\n",
       " 'numerator',\n",
       " 'real',\n",
       " 'to_bytes']"
      ]
     },
     "execution_count": 5,
     "metadata": {},
     "output_type": "execute_result"
    }
   ],
   "source": [
    "var = 5\n",
    "dir(var)"
   ]
  },
  {
   "cell_type": "code",
   "execution_count": 6,
   "metadata": {},
   "outputs": [
    {
     "data": {
      "text/plain": [
       "5"
      ]
     },
     "execution_count": 6,
     "metadata": {},
     "output_type": "execute_result"
    }
   ],
   "source": [
    "var.numerator"
   ]
  },
  {
   "cell_type": "code",
   "execution_count": 7,
   "metadata": {},
   "outputs": [
    {
     "data": {
      "text/plain": [
       "5"
      ]
     },
     "execution_count": 7,
     "metadata": {},
     "output_type": "execute_result"
    }
   ],
   "source": [
    "var.real"
   ]
  },
  {
   "cell_type": "code",
   "execution_count": 8,
   "metadata": {},
   "outputs": [
    {
     "data": {
      "text/plain": [
       "3"
      ]
     },
     "execution_count": 8,
     "metadata": {},
     "output_type": "execute_result"
    }
   ],
   "source": [
    "var.bit_length()"
   ]
  },
  {
   "cell_type": "markdown",
   "metadata": {},
   "source": [
    "##### Object-oriented python\n",
    "\n",
    "- Everything is an object, even numbers.\n",
    "- Other languages employ 'primitives' (non-object data)\n",
    "- All entities in Python follow the same rules of objects\n",
    "- Every object (instance of a class) has a type (the class)\n",
    "- The object or class has attributes, some of which are methods\n",
    "- Python's uniform design makes it easier to use/extend"
   ]
  },
  {
   "cell_type": "markdown",
   "metadata": {},
   "source": [
    "##### Modules vs Classes\n",
    "\n",
    "- Python modules are files that contain python code\n",
    "- Python modules can be executed or imported\n",
    "- Modules can contain class definitions\n",
    "- Sometimes a module consists of a single class; in this case a module may seem synonymous with a class"
   ]
  },
  {
   "cell_type": "code",
   "execution_count": 9,
   "metadata": {},
   "outputs": [
    {
     "name": "stdout",
     "output_type": "stream",
     "text": [
      "7.0\n"
     ]
    },
    {
     "data": {
      "text/plain": [
       "<function print>"
      ]
     },
     "execution_count": 9,
     "metadata": {},
     "output_type": "execute_result"
    }
   ],
   "source": [
    "from decimal import Decimal\n",
    "\n",
    "# decimal = module, Decimal = class\n",
    "print(Decimal('3.5') + Decimal('3.5'))\n",
    "\n",
    "print; print"
   ]
  },
  {
   "cell_type": "markdown",
   "metadata": {},
   "source": [
    "### Classes, Instances, Type, Methods, And Attributes\n",
    "\n",
    "- Class: a blue print for an instance\n",
    "- Instance: a constructed object of the class\n",
    "- Type: indicates the class the instance belongs to\n",
    "- Attribute: any object value: object.attribute\n",
    "- Method: a \"callable attribute\" defined in the class\n",
    "\n",
    "- Each instance of a car does the same things (methods)\n",
    "- But, each car instance has its own state (attributes)\n",
    "- An object's interface is made up of its methods"
   ]
  },
  {
   "cell_type": "code",
   "execution_count": 14,
   "metadata": {},
   "outputs": [
    {
     "name": "stdout",
     "output_type": "stream",
     "text": [
      "<__main__.MyClass object at 0x000001E4B77A0CF8>\n",
      "<__main__.MyClass object at 0x000001E4B77A0C88>\n",
      "10\n",
      "10\n"
     ]
    }
   ],
   "source": [
    "class MyClass(object):\n",
    "    var = 10\n",
    "\n",
    "\n",
    "\n",
    "this_obj = MyClass()\n",
    "that_obj = MyClass()\n",
    "print(this_obj)\n",
    "print(that_obj)\n",
    "print(this_obj.var)\n",
    "print(that_obj.var)"
   ]
  },
  {
   "cell_type": "markdown",
   "metadata": {},
   "source": [
    "### 6 points to understand classes\n",
    "\n",
    "- An instance of a class knows what class it's from\n",
    "- Vars defined in the class are available to the instance\n",
    "- A method on an instance passes instance as the first argument to the method (named \"self\" in the method)\n",
    "- Instances have their own data, called instance attributes\n",
    "- Variables defined in the class are called class attributes\n",
    "- When we read an attribute, Python looks for it first in the instance, and then the class."
   ]
  },
  {
   "cell_type": "code",
   "execution_count": 17,
   "metadata": {},
   "outputs": [
    {
     "name": "stdout",
     "output_type": "stream",
     "text": [
      "calling \"call me\" method with instance: \n",
      "<__main__.Joe object at 0x000001E4B777E400>\n"
     ]
    }
   ],
   "source": [
    "class Joe(object):\n",
    "    greeting = 'hello, Joe'\n",
    "    \n",
    "    def callme(self):\n",
    "        print('calling \"call me\" method with instance: ')\n",
    "        print(self)\n",
    "        \n",
    "thisjoe = Joe()\n",
    "thisjoe.callme()"
   ]
  },
  {
   "cell_type": "markdown",
   "metadata": {},
   "source": [
    "### Instance methods\n",
    "\n",
    "- Instance methods are variables defined in the class\n",
    "- They are accessed through the instance: instance.method()\n",
    "- When called through the instance, the instance is automatically passed as 1st argument to the method\n",
    "- Because of this automatic passing of the instance, instance methods are known as \"bound\" metgods, i.e. bound to the instance upon which it is called."
   ]
  },
  {
   "cell_type": "code",
   "execution_count": 20,
   "metadata": {},
   "outputs": [
    {
     "name": "stdout",
     "output_type": "stream",
     "text": [
      "8\n"
     ]
    }
   ],
   "source": [
    "import random\n",
    "\n",
    "class MyClass(object):\n",
    "    def dothis(self):\n",
    "        self.rand_val = random.randint(1,10)\n",
    "    \n",
    "myinst = MyClass()\n",
    "myinst.dothis()\n",
    "\n",
    "print(myinst.rand_val)"
   ]
  },
  {
   "cell_type": "markdown",
   "metadata": {},
   "source": [
    "### Instance attributes (\"STATE\")\n",
    "\n",
    "- We have seen that an instance can access variables defined in the class\n",
    "- An instance can also get and set values in itself.\n",
    "- Because these values change according to what happens to the object, we call these values state\n",
    "- Instance data takes the form of instance attributes values, set and accessed through object.attribute syntax."
   ]
  },
  {
   "cell_type": "markdown",
   "metadata": {},
   "source": [
    "### Encapsulation\n",
    "\n",
    "- Encapsulation: the first of the three pillars of OOP\n",
    "- Encapsulation refers to the safe storage of data (as attributes) in an instance\n",
    "- Data should be accessed only through instance methods\n",
    "- Data should be valicated as correct (depending on the requirements set in class methods)\n",
    "- Data should be safe from changes by external processes\n",
    "\n",
    "### Breaking Encapsulation\n",
    "\n",
    "- Although normally set in a setter method, instance attribute values can be set anywhere\n",
    "- Encapsulation in Python is a voluntary restriction\n",
    "- Python does not implement data hiding, as does other languages"
   ]
  }
 ],
 "metadata": {
  "kernelspec": {
   "display_name": "Python 3",
   "language": "python",
   "name": "python3"
  },
  "language_info": {
   "codemirror_mode": {
    "name": "ipython",
    "version": 3
   },
   "file_extension": ".py",
   "mimetype": "text/x-python",
   "name": "python",
   "nbconvert_exporter": "python",
   "pygments_lexer": "ipython3",
   "version": "3.7.3"
  }
 },
 "nbformat": 4,
 "nbformat_minor": 2
}
