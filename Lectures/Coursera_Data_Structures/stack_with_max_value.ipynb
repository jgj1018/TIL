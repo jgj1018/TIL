{
 "cells": [
  {
   "cell_type": "code",
   "execution_count": 10,
   "metadata": {},
   "outputs": [
    {
     "ename": "ValueError",
     "evalue": "invalid literal for int() with base 10: ''",
     "output_type": "error",
     "traceback": [
      "\u001b[1;31m---------------------------------------------------------------------------\u001b[0m",
      "\u001b[1;31mValueError\u001b[0m                                Traceback (most recent call last)",
      "\u001b[1;32m<ipython-input-10-cf54d7abeefb>\u001b[0m in \u001b[0;36m<module>\u001b[1;34m\u001b[0m\n\u001b[0;32m     26\u001b[0m     \u001b[0mstack\u001b[0m \u001b[1;33m=\u001b[0m \u001b[0mStackWithMax\u001b[0m\u001b[1;33m(\u001b[0m\u001b[1;33m)\u001b[0m\u001b[1;33m\u001b[0m\u001b[1;33m\u001b[0m\u001b[0m\n\u001b[0;32m     27\u001b[0m \u001b[1;33m\u001b[0m\u001b[0m\n\u001b[1;32m---> 28\u001b[1;33m     \u001b[0mnum_queries\u001b[0m \u001b[1;33m=\u001b[0m \u001b[0mint\u001b[0m\u001b[1;33m(\u001b[0m\u001b[0msys\u001b[0m\u001b[1;33m.\u001b[0m\u001b[0mstdin\u001b[0m\u001b[1;33m.\u001b[0m\u001b[0mreadline\u001b[0m\u001b[1;33m(\u001b[0m\u001b[1;33m)\u001b[0m\u001b[1;33m)\u001b[0m\u001b[1;33m\u001b[0m\u001b[1;33m\u001b[0m\u001b[0m\n\u001b[0m\u001b[0;32m     29\u001b[0m \u001b[1;33m\u001b[0m\u001b[0m\n\u001b[0;32m     30\u001b[0m     \u001b[1;32mfor\u001b[0m \u001b[0m_\u001b[0m \u001b[1;32min\u001b[0m \u001b[0mrange\u001b[0m\u001b[1;33m(\u001b[0m\u001b[0mnum_queries\u001b[0m\u001b[1;33m)\u001b[0m\u001b[1;33m:\u001b[0m\u001b[1;33m\u001b[0m\u001b[1;33m\u001b[0m\u001b[0m\n",
      "\u001b[1;31mValueError\u001b[0m: invalid literal for int() with base 10: ''"
     ]
    }
   ],
   "source": [
    "#python3\n",
    "import sys\n",
    "    \n",
    "class StackWithMax():\n",
    "    def __init__(self):\n",
    "        self.__stack = []\n",
    "        self.sub_stack = []\n",
    "        self.max_val = 0\n",
    "\n",
    "    def Push(self, a):\n",
    "        if not self.sub_stack or a >= self.sub_stack[len(self.sub_stack) - 1]:\n",
    "            self.sub_stack.append(a)\n",
    "            self.max_val = a\n",
    "        self.__stack.append(a)\n",
    "\n",
    "    def Pop(self):\n",
    "        if self.max_val == self.__stack.pop():\n",
    "            self.sub_stack.pop()\n",
    "            self.max_val = self.sub_stack[len(self.sub_stack) - 1]\n",
    "\n",
    "    def Max(self):\n",
    "        # return max(self.__stack)\n",
    "        return self.sub_stack[len(self.sub_stack) - 1]\n",
    "\n",
    "\n",
    "if __name__ == '__main__':\n",
    "    stack = StackWithMax()\n",
    "\n",
    "    num_queries = int(sys.stdin.readline())\n",
    "    \n",
    "    for _ in range(num_queries):\n",
    "        query = sys.stdin.readline().split()\n",
    "        \n",
    "        if query[0] == \"push\":\n",
    "            stack.Push(int(query[1]))\n",
    "        elif query[0] == \"pop\":\n",
    "            stack.Pop()\n",
    "        elif query[0] == \"max\":\n",
    "            print(stack.Max())\n",
    "        else:\n",
    "            assert(0)\n"
   ]
  },
  {
   "cell_type": "code",
   "execution_count": null,
   "metadata": {},
   "outputs": [],
   "source": []
  }
 ],
 "metadata": {
  "kernelspec": {
   "display_name": "Python 3",
   "language": "python",
   "name": "python3"
  },
  "language_info": {
   "codemirror_mode": {
    "name": "ipython",
    "version": 3
   },
   "file_extension": ".py",
   "mimetype": "text/x-python",
   "name": "python",
   "nbconvert_exporter": "python",
   "pygments_lexer": "ipython3",
   "version": "3.7.1"
  }
 },
 "nbformat": 4,
 "nbformat_minor": 2
}
