{
 "cells": [
  {
   "cell_type": "code",
   "execution_count": null,
   "metadata": {
    "scrolled": true
   },
   "outputs": [],
   "source": [
    "# python3\n",
    "\n",
    "from collections import namedtuple\n",
    "\n",
    "Bracket = namedtuple(\"Bracket\", [\"char\", \"position\"])\n",
    "\n",
    "\n",
    "def are_matching(left, right):\n",
    "    return (left + right) in [\"()\", \"[]\", \"{}\"]\n",
    "\n",
    "\n",
    "def find_mismatch(text):\n",
    "    opening_brackets_stack = []\n",
    "    chk_flg = True\n",
    "    chk_idx = 0\n",
    "    for i, next in enumerate(text):\n",
    "        if next in \"([{\":\n",
    "            opening_brackets_stack.append(Bracket(next, i))        \n",
    "        if next in \")]}\":\n",
    "            if len(opening_brackets_stack) == 0:\n",
    "                chk_flg = False\n",
    "            else:\n",
    "                chk_flg = are_matching(opening_brackets_stack.pop().char, next)\n",
    "        if chk_flg == False:\n",
    "            chk_idx = i + 1\n",
    "            break\n",
    "    if chk_flg == True and len(opening_brackets_stack) != 0:\n",
    "        chk_idx = opening_brackets_stack[0].position + 1 \n",
    "        chk_flg = False\n",
    "    return [chk_flg, chk_idx]\n",
    "\n",
    "\n",
    "def main():\n",
    "    text = input()\n",
    "    mismatch = find_mismatch(text)\n",
    "    if mismatch[0] == True:\n",
    "        print(\"Success\")\n",
    "    else:\n",
    "        print(mismatch[1])\n",
    "\n",
    "\n",
    "if __name__ == \"__main__\":\n",
    "    main()"
   ]
  }
 ],
 "metadata": {
  "kernelspec": {
   "display_name": "Python 3",
   "language": "python",
   "name": "python3"
  },
  "language_info": {
   "codemirror_mode": {
    "name": "ipython",
    "version": 3
   },
   "file_extension": ".py",
   "mimetype": "text/x-python",
   "name": "python",
   "nbconvert_exporter": "python",
   "pygments_lexer": "ipython3",
   "version": "3.7.1"
  }
 },
 "nbformat": 4,
 "nbformat_minor": 2
}
