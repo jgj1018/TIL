{
 "cells": [
  {
   "cell_type": "code",
   "execution_count": 3,
   "metadata": {},
   "outputs": [
    {
     "name": "stdout",
     "output_type": "stream",
     "text": [
      "57 51 34 39 74 97 -1 22 71 22 18 97 59 67 74 38 89 50 25 7 81 77 10 86 83 13 44 28 15 7 41 92 47 39 49 7 56 72 80 17 78 15 61 58 45 28 65 39 91 90 97 82 71 81 40 79 8 77 54 82 8 93 54 65 57 83 52 71 58 95 57 44 31 33 34 41 98 11 66 72 93 12 64 68 3 60 59 26 9 88 6 59 97 74 22 24 31 29 70 18\n",
      "[57, 51, 34, 39, 74, 97, -1, 22, 71, 22, 18, 97, 59, 67, 74, 38, 89, 50, 25, 7, 81, 77, 10, 86, 83, 13, 44, 28, 15, 7, 41, 92, 47, 39, 49, 7, 56, 72, 80, 17, 78, 15, 61, 58, 45, 28, 65, 39, 91, 90, 97, 82, 71, 81, 40, 79, 8, 77, 54, 82, 8, 93, 54, 65, 57, 83, 52, 71, 58, 95, 57, 44, 31, 33, 34, 41, 98, 11, 66, 72, 93, 12, 64, 68, 3, 60, 59, 26, 9, 88, 6, 59, 97, 74, 22, 24, 31, 29, 70, 18]\n",
      "66\n"
     ]
    }
   ],
   "source": [
    "# python3\n",
    "\n",
    "import sys\n",
    "import threading\n",
    "\n",
    "\n",
    "def compute_height(n, parents):\n",
    "    # Replace this code with a faster implementation\n",
    "    max_height = 0\n",
    "    for vertex in range(n):\n",
    "        height = 0\n",
    "        current = vertex\n",
    "        while current != -1:\n",
    "            height += 1\n",
    "            current = parents[current]\n",
    "        max_height = max(max_height, height)\n",
    "    return max_height\n",
    "\n",
    "\n",
    "def main():\n",
    "    #n = int(input())\n",
    "    parents = list(map(int, input().split()))\n",
    "    print(parents)\n",
    "    length = len(set(parents))\n",
    "    print(length)\n",
    "    #print(compute_height(n, parents))\n",
    "\n",
    "\n",
    "# In Python, the default limit on recursion depth is rather low,\n",
    "# so raise it here for this problem. Note that to take advantage\n",
    "# of bigger stack, we have to launch the computation in a new thread.\n",
    "sys.setrecursionlimit(10**7)  # max depth of recursion\n",
    "threading.stack_size(2**27)   # new thread will get stack of such size\n",
    "threading.Thread(target=main).start()\n"
   ]
  },
  {
   "cell_type": "code",
   "execution_count": null,
   "metadata": {},
   "outputs": [],
   "source": []
  },
  {
   "cell_type": "code",
   "execution_count": null,
   "metadata": {},
   "outputs": [],
   "source": []
  }
 ],
 "metadata": {
  "kernelspec": {
   "display_name": "Python 3",
   "language": "python",
   "name": "python3"
  },
  "language_info": {
   "codemirror_mode": {
    "name": "ipython",
    "version": 3
   },
   "file_extension": ".py",
   "mimetype": "text/x-python",
   "name": "python",
   "nbconvert_exporter": "python",
   "pygments_lexer": "ipython3",
   "version": "3.7.1"
  }
 },
 "nbformat": 4,
 "nbformat_minor": 2
}
