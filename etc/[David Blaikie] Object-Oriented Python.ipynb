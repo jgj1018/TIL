{
 "cells": [
  {
   "cell_type": "markdown",
   "metadata": {},
   "source": [
    "##### OOP\n",
    "- A paradigm for code organization and code\n",
    "- Organizes data into objects and functionality into methods.\n",
    "- Defines object specifications (data and methods) in classes\n",
    "- one definition of object: a unit of data that has associated functionality\n",
    "\n",
    "##### object-oriented python\n",
    "\n",
    "- Everything is an object, even numbers.\n",
    "- Other languages employ primitives (non-object data)\n",
    "\n",
    "##### what is an object?\n",
    "\n",
    "An object is a unit of data (having one or more attributes), of a particular class or type, with associated functionality (methods)\n"
   ]
  },
  {
   "cell_type": "code",
   "execution_count": 2,
   "metadata": {},
   "outputs": [
    {
     "name": "stdout",
     "output_type": "stream",
     "text": [
      "<class 'int'>\n",
      "<class 'str'>\n"
     ]
    },
    {
     "data": {
      "text/plain": [
       "<function print>"
      ]
     },
     "execution_count": 2,
     "metadata": {},
     "output_type": "execute_result"
    }
   ],
   "source": [
    "myint = 5\n",
    "mystr = 'hello'\n",
    "\n",
    "print(type(myint))\n",
    "print(type(mystr))\n",
    "\n",
    "print; print"
   ]
  },
  {
   "cell_type": "code",
   "execution_count": 4,
   "metadata": {},
   "outputs": [
    {
     "name": "stdout",
     "output_type": "stream",
     "text": [
      "<class 'list'>\n",
      "<class 'bool'>\n",
      "<class 'NoneType'>\n",
      "<class 'function'>\n",
      "<class 'type'>\n"
     ]
    },
    {
     "data": {
      "text/plain": [
       "<function print>"
      ]
     },
     "execution_count": 4,
     "metadata": {},
     "output_type": "execute_result"
    }
   ],
   "source": [
    "mylist = ['a', 'b', 'c']\n",
    "mybool = True\n",
    "mynone = None\n",
    "\n",
    "def myfunc():\n",
    "    print('hello')\n",
    "    \n",
    "print(type(mylist))\n",
    "print(type(mybool))\n",
    "print(type(mynone))\n",
    "print(type(myfunc))\n",
    "\n",
    "this_type = type(mylist)\n",
    "print(type(this_type))\n",
    "\n",
    "print; print"
   ]
  },
  {
   "cell_type": "code",
   "execution_count": 5,
   "metadata": {},
   "outputs": [
    {
     "data": {
      "text/plain": [
       "['__abs__',\n",
       " '__add__',\n",
       " '__and__',\n",
       " '__bool__',\n",
       " '__ceil__',\n",
       " '__class__',\n",
       " '__delattr__',\n",
       " '__dir__',\n",
       " '__divmod__',\n",
       " '__doc__',\n",
       " '__eq__',\n",
       " '__float__',\n",
       " '__floor__',\n",
       " '__floordiv__',\n",
       " '__format__',\n",
       " '__ge__',\n",
       " '__getattribute__',\n",
       " '__getnewargs__',\n",
       " '__gt__',\n",
       " '__hash__',\n",
       " '__index__',\n",
       " '__init__',\n",
       " '__init_subclass__',\n",
       " '__int__',\n",
       " '__invert__',\n",
       " '__le__',\n",
       " '__lshift__',\n",
       " '__lt__',\n",
       " '__mod__',\n",
       " '__mul__',\n",
       " '__ne__',\n",
       " '__neg__',\n",
       " '__new__',\n",
       " '__or__',\n",
       " '__pos__',\n",
       " '__pow__',\n",
       " '__radd__',\n",
       " '__rand__',\n",
       " '__rdivmod__',\n",
       " '__reduce__',\n",
       " '__reduce_ex__',\n",
       " '__repr__',\n",
       " '__rfloordiv__',\n",
       " '__rlshift__',\n",
       " '__rmod__',\n",
       " '__rmul__',\n",
       " '__ror__',\n",
       " '__round__',\n",
       " '__rpow__',\n",
       " '__rrshift__',\n",
       " '__rshift__',\n",
       " '__rsub__',\n",
       " '__rtruediv__',\n",
       " '__rxor__',\n",
       " '__setattr__',\n",
       " '__sizeof__',\n",
       " '__str__',\n",
       " '__sub__',\n",
       " '__subclasshook__',\n",
       " '__truediv__',\n",
       " '__trunc__',\n",
       " '__xor__',\n",
       " 'bit_length',\n",
       " 'conjugate',\n",
       " 'denominator',\n",
       " 'from_bytes',\n",
       " 'imag',\n",
       " 'numerator',\n",
       " 'real',\n",
       " 'to_bytes']"
      ]
     },
     "execution_count": 5,
     "metadata": {},
     "output_type": "execute_result"
    }
   ],
   "source": [
    "var = 5\n",
    "dir(var)"
   ]
  },
  {
   "cell_type": "code",
   "execution_count": 6,
   "metadata": {},
   "outputs": [
    {
     "data": {
      "text/plain": [
       "5"
      ]
     },
     "execution_count": 6,
     "metadata": {},
     "output_type": "execute_result"
    }
   ],
   "source": [
    "var.numerator"
   ]
  },
  {
   "cell_type": "code",
   "execution_count": 7,
   "metadata": {},
   "outputs": [
    {
     "data": {
      "text/plain": [
       "5"
      ]
     },
     "execution_count": 7,
     "metadata": {},
     "output_type": "execute_result"
    }
   ],
   "source": [
    "var.real"
   ]
  },
  {
   "cell_type": "code",
   "execution_count": 8,
   "metadata": {},
   "outputs": [
    {
     "data": {
      "text/plain": [
       "3"
      ]
     },
     "execution_count": 8,
     "metadata": {},
     "output_type": "execute_result"
    }
   ],
   "source": [
    "var.bit_length()"
   ]
  },
  {
   "cell_type": "markdown",
   "metadata": {},
   "source": [
    "##### Object-oriented python\n",
    "\n",
    "- Everything is an object, even numbers.\n",
    "- Other languages employ 'primitives' (non-object data)\n",
    "- All entities in Python follow the same rules of objects\n",
    "- Every object (instance of a class) has a type (the class)\n",
    "- The object or class has attributes, some of which are methods\n",
    "- Python's uniform design makes it easier to use/extend"
   ]
  },
  {
   "cell_type": "markdown",
   "metadata": {},
   "source": [
    "##### Modules vs Classes\n",
    "\n",
    "- Python modules are files that contain python code\n",
    "- Python modules can be executed or imported\n",
    "- Modules can contain class definitions\n",
    "- Sometimes a module consists of a single class; in this case a module may seem synonymous with a class"
   ]
  },
  {
   "cell_type": "code",
   "execution_count": 9,
   "metadata": {},
   "outputs": [
    {
     "name": "stdout",
     "output_type": "stream",
     "text": [
      "7.0\n"
     ]
    },
    {
     "data": {
      "text/plain": [
       "<function print>"
      ]
     },
     "execution_count": 9,
     "metadata": {},
     "output_type": "execute_result"
    }
   ],
   "source": [
    "from decimal import Decimal\n",
    "\n",
    "# decimal = module, Decimal = class\n",
    "print(Decimal('3.5') + Decimal('3.5'))\n",
    "\n",
    "print; print"
   ]
  },
  {
   "cell_type": "markdown",
   "metadata": {},
   "source": [
    "### Classes, Instances, Type, Methods, And Attributes\n",
    "\n",
    "- Class: a blue print for an instance\n",
    "- Instance: a constructed object of the class\n",
    "- Type: indicates the class the instance belongs to\n",
    "- Attribute: any object value: object.attribute\n",
    "- Method: a \"callable attribute\" defined in the class\n",
    "\n",
    "- Each instance of a car does the same things (methods)\n",
    "- But, each car instance has its own state (attributes)\n",
    "- An object's interface is made up of its methods"
   ]
  },
  {
   "cell_type": "code",
   "execution_count": 14,
   "metadata": {},
   "outputs": [
    {
     "name": "stdout",
     "output_type": "stream",
     "text": [
      "<__main__.MyClass object at 0x000001E4B77A0CF8>\n",
      "<__main__.MyClass object at 0x000001E4B77A0C88>\n",
      "10\n",
      "10\n"
     ]
    }
   ],
   "source": [
    "class MyClass(object):\n",
    "    var = 10\n",
    "\n",
    "\n",
    "\n",
    "this_obj = MyClass()\n",
    "that_obj = MyClass()\n",
    "print(this_obj)\n",
    "print(that_obj)\n",
    "print(this_obj.var)\n",
    "print(that_obj.var)"
   ]
  },
  {
   "cell_type": "markdown",
   "metadata": {},
   "source": [
    "### 6 points to understand classes\n",
    "\n",
    "- An instance of a class knows what class it's from\n",
    "- Vars defined in the class are available to the instance\n",
    "- A method on an instance passes instance as the first argument to the method (named \"self\" in the method)\n",
    "- Instances have their own data, called instance attributes\n",
    "- Variables defined in the class are called class attributes\n",
    "- When we read an attribute, Python looks for it first in the instance, and then the class."
   ]
  },
  {
   "cell_type": "code",
   "execution_count": 17,
   "metadata": {},
   "outputs": [
    {
     "name": "stdout",
     "output_type": "stream",
     "text": [
      "calling \"call me\" method with instance: \n",
      "<__main__.Joe object at 0x000001E4B777E400>\n"
     ]
    }
   ],
   "source": [
    "class Joe(object):\n",
    "    greeting = 'hello, Joe'\n",
    "    \n",
    "    def callme(self):\n",
    "        print('calling \"call me\" method with instance: ')\n",
    "        print(self)\n",
    "        \n",
    "thisjoe = Joe()\n",
    "thisjoe.callme()"
   ]
  },
  {
   "cell_type": "markdown",
   "metadata": {},
   "source": [
    "### Instance methods\n",
    "\n",
    "- Instance methods are variables defined in the class\n",
    "- They are accessed through the instance: instance.method()\n",
    "- When called through the instance, the instance is automatically passed as 1st argument to the method\n",
    "- Because of this automatic passing of the instance, instance methods are known as \"bound\" methods, i.e. bound to the instance upon which it is called."
   ]
  },
  {
   "cell_type": "code",
   "execution_count": 20,
   "metadata": {},
   "outputs": [
    {
     "name": "stdout",
     "output_type": "stream",
     "text": [
      "8\n"
     ]
    }
   ],
   "source": [
    "import random\n",
    "\n",
    "class MyClass(object):\n",
    "    def dothis(self):\n",
    "        self.rand_val = random.randint(1,10)\n",
    "    \n",
    "myinst = MyClass()\n",
    "myinst.dothis()\n",
    "\n",
    "print(myinst.rand_val)"
   ]
  },
  {
   "cell_type": "markdown",
   "metadata": {},
   "source": [
    "### Instance attributes (\"STATE\")\n",
    "\n",
    "- We have seen that an instance can access variables defined in the class\n",
    "- An instance can also get and set values in itself.\n",
    "- Because these values change according to what happens to the object, we call these values state\n",
    "- Instance data takes the form of instance attributes values, set and accessed through object.attribute syntax."
   ]
  },
  {
   "cell_type": "markdown",
   "metadata": {},
   "source": [
    "### Encapsulation\n",
    "\n",
    "- Encapsulation: the first of the three pillars of OOP\n",
    "- Encapsulation refers to the safe storage of data (as attributes) in an instance\n",
    "- Data should be accessed only through instance methods\n",
    "- Data should be valicated as correct (depending on the requirements set in class methods)\n",
    "- Data should be safe from changes by external processes\n",
    "\n",
    "### Breaking Encapsulation\n",
    "\n",
    "- Although normally set in a setter method, instance attribute values can be set anywhere\n",
    "- Encapsulation in Python is a voluntary restriction\n",
    "- Python does not implement data hiding, as does other languages"
   ]
  },
  {
   "cell_type": "code",
   "execution_count": 22,
   "metadata": {},
   "outputs": [
    {
     "name": "stdout",
     "output_type": "stream",
     "text": [
      "calling __init__\n",
      "7\n"
     ]
    }
   ],
   "source": [
    "class MyNum(object):\n",
    "    def __init__(self, value):\n",
    "        print('calling __init__')\n",
    "        self.val = value\n",
    "    \n",
    "    def increment(self):\n",
    "        self.val = self.val + 1\n",
    "\n",
    "dd = MyNum(5)\n",
    "dd.increment()\n",
    "dd.increment()\n",
    "print(dd.val)"
   ]
  },
  {
   "cell_type": "markdown",
   "metadata": {},
   "source": [
    "### The __init__ constructor\n",
    "\n",
    "- __init__ is a keyword variable: it must be named init\n",
    "- It is a method automatically called when a new instance is constructed\n",
    "- If it is not present, it is not called\n",
    "- The \"self\" argument is the first apperance of the instance\n",
    "- __init__ offers the opportunity to initialize attributes in the instance at the time of construction"
   ]
  },
  {
   "cell_type": "code",
   "execution_count": 23,
   "metadata": {},
   "outputs": [
    {
     "name": "stdout",
     "output_type": "stream",
     "text": [
      "class value!\n",
      "inst value!\n",
      "class value!\n"
     ]
    }
   ],
   "source": [
    "class YourClass(object):\n",
    "    classy = 'class value!'\n",
    "    \n",
    "dd = YourClass()\n",
    "\n",
    "print(dd.classy)\n",
    "\n",
    "dd.classy = 'inst value!'\n",
    "\n",
    "print(dd.classy)\n",
    "\n",
    "del dd.classy\n",
    "\n",
    "print(dd.classy)"
   ]
  },
  {
   "cell_type": "markdown",
   "metadata": {},
   "source": [
    "### Class Attributes VS Instance Attributes\n",
    "\n",
    "- Attributes / variables in the class are accessible through the instance\n",
    "- Instance attributes are also accessible by the instance\n",
    "- When we use the syntax object.attribute, we're asking Python to look up the attribute \n",
    "- First in the instance\n",
    "- Then in the class\n",
    "- Method calls through the instance follow this lookup"
   ]
  },
  {
   "cell_type": "code",
   "execution_count": 26,
   "metadata": {},
   "outputs": [
    {
     "name": "stdout",
     "output_type": "stream",
     "text": [
      "val of obj: 5\n",
      "count from class: 3\n",
      "count from instance: 3\n",
      "val of obj: 13\n",
      "count from class: 3\n",
      "count from instance: 3\n",
      "val of obj: 17\n",
      "count from class: 3\n",
      "count from instance: 3\n"
     ]
    }
   ],
   "source": [
    "class InstanceCounter(object):\n",
    "    count = 0\n",
    "    \n",
    "    def __init__(self, val):\n",
    "        self.val = val\n",
    "        InstanceCounter.count += 1\n",
    "        \n",
    "    def set_val(self, newval):\n",
    "        self.val = newval\n",
    "    \n",
    "    def get_val(self):\n",
    "        return self.val\n",
    "    \n",
    "    def get_count(self):\n",
    "        return InstanceCounter.count\n",
    "    \n",
    "a = InstanceCounter(5)\n",
    "b = InstanceCounter(13)\n",
    "c = InstanceCounter(17)\n",
    "\n",
    "for obj in (a,b,c):\n",
    "    print(\"val of obj: %s\" % (obj.get_val()))\n",
    "    print(\"count from class: %s\" % InstanceCounter.count)\n",
    "    print(\"count from instance: %s\" % obj.count)"
   ]
  },
  {
   "cell_type": "code",
   "execution_count": 27,
   "metadata": {},
   "outputs": [
    {
     "name": "stdout",
     "output_type": "stream",
     "text": [
      "2014-10-13\n",
      "08:13:07\n",
      "2014-10-13\n"
     ]
    }
   ],
   "source": [
    "class Date(object):\n",
    "    def get_date(self):\n",
    "        return '2014-10-13'\n",
    "    \n",
    "class Time(Date):\n",
    "    def get_time(self):\n",
    "        return '08:13:07'\n",
    "    \n",
    "dt = Date()\n",
    "print(dt.get_date())\n",
    "\n",
    "tm = Time()\n",
    "print(tm.get_time())\n",
    "print(tm.get_date())"
   ]
  },
  {
   "cell_type": "markdown",
   "metadata": {},
   "source": [
    "### Object.attribute Lookup Hierarchy\n",
    "\n",
    "- The instance\n",
    "- The class\n",
    "- Any class from which this class inherits\n",
    "\n",
    "### Some inheritance terms\n",
    "\n",
    "- An inheriting class = Child class = Derived class = Subclass\n",
    "- An inherited class = Parent class = Base class = Superclass\n",
    "\n",
    "### Inheritance \n",
    "\n",
    "- Inheritance: the second pillar of OOP\n",
    "- One class can inherit from another\n",
    "- The class attributes are inherited\n",
    "- In particular, its methods are inherited\n",
    "- This means that instances of an child class can access attributes of the parent class\n",
    "- This is simply another level of attribute lookup: instance, then class, then inherited classes\n",
    "\n",
    "### Inheritance hierarchy\n",
    "\n",
    "- Classes can be organized into an inheritance hierarchy\n",
    "- A child class can access the attributes of all parent(grandparent, etc.) classes\n",
    "- Inheritance promotes code collaboration and reuse\n",
    "- \"No code should appear twice\"\n",
    "\n",
    "### Polymorphism (\"many shapes\")\n",
    "\n",
    "- The third pillar of OOP\n",
    "- Two classes with same interface (i.e., method name)\n",
    "- Two methods are often different, but conceptually similar\n",
    "- Allows for expressiveness in design: we can say that this group of related classes implement the same action.\n",
    "- Duck typing refers to reading an object's attributes to decide whether it is of a proper type, rather than checking the type itself."
   ]
  },
  {
   "cell_type": "code",
   "execution_count": 29,
   "metadata": {},
   "outputs": [
    {
     "name": "stdout",
     "output_type": "stream",
     "text": [
      "dogname\n",
      "a\n"
     ]
    }
   ],
   "source": [
    "import random\n",
    "\n",
    "class Animal(object):\n",
    "    \n",
    "    def __init__(self, name):\n",
    "        self.name = name\n",
    "\n",
    "class Dog(Animal):\n",
    "    \n",
    "    def __init__(self, name):\n",
    "        super(Dog, self).__init__(name)\n",
    "        self.breed = random.choice(['a', 'b', 'c'])\n",
    "        \n",
    "    def fetch(self, thing):\n",
    "        print('%s goes after the %s!' % (self.name, thing))\n",
    "        \n",
    "d = Dog('dogname')\n",
    "\n",
    "print(d.name)\n",
    "print(d.breed)"
   ]
  },
  {
   "cell_type": "markdown",
   "metadata": {},
   "source": [
    "### Inheriting the constructor\n",
    "\n",
    "- __init__ is like any other method; it can be inherited\n",
    "- If a class does not have an __init__ constructor, Python will heck its parent class to see if it can find one\n",
    "- As soon as it finds one, Python calls it and stops looking\n",
    "- We can use the super() function to call methods in the parent class\n",
    "- We may want to initialize in the parent as well as our own class\n",
    "\n",
    "### Multiple inheritance\n",
    "\n",
    "- Any class can inherit from multiple classes\n",
    "- Python normally uses a \"depth-first\" order when searching inheriting classes\n",
    "- But when two classes inherit from the same class, Python eliminates the first mention of that class from the mro (method resolution order)\n",
    "- The above applies to \"new style\" classses (inheriting from object)"
   ]
  },
  {
   "cell_type": "code",
   "execution_count": 30,
   "metadata": {},
   "outputs": [
    {
     "name": "stdout",
     "output_type": "stream",
     "text": [
      "doing this in A\n",
      "[<class '__main__.D'>, <class '__main__.B'>, <class '__main__.A'>, <class '__main__.C'>, <class 'object'>]\n"
     ]
    }
   ],
   "source": [
    "class A(object):\n",
    "    def dothis(self):\n",
    "        print('doing this in A')\n",
    "        \n",
    "class B(A):\n",
    "    pass\n",
    "\n",
    "class C(object):\n",
    "    def dothis(self):\n",
    "        print('doing this in C')\n",
    "        \n",
    "class D(B, C):\n",
    "    pass\n",
    "\n",
    "d_ins = D()\n",
    "d_ins.dothis()\n",
    "print(D.mro())"
   ]
  },
  {
   "cell_type": "code",
   "execution_count": 33,
   "metadata": {},
   "outputs": [
    {
     "name": "stdout",
     "output_type": "stream",
     "text": [
      "val of obj: 5\n",
      "count from class: 3\n",
      "count from instance: 3\n",
      "val of obj: 13\n",
      "count from class: 3\n",
      "count from instance: 3\n",
      "val of obj: 17\n",
      "count from class: 3\n",
      "count from instance: 3\n"
     ]
    }
   ],
   "source": [
    "class InstanceCounter(object):\n",
    "    count = 0\n",
    "    \n",
    "    def __init__(self, val):\n",
    "        self.val = val\n",
    "        InstanceCounter.count += 1\n",
    "        \n",
    "    def set_val(self, newval):\n",
    "        self.val = newval\n",
    "    \n",
    "    def get_val(self):\n",
    "        return self.val\n",
    "    \n",
    "    @classmethod\n",
    "    def get_count(cls):\n",
    "        return cls.count\n",
    "    \n",
    "a = InstanceCounter(5)\n",
    "b = InstanceCounter(13)\n",
    "c = InstanceCounter(17)\n",
    "\n",
    "for obj in (a,b,c):\n",
    "    print(\"val of obj: %s\" % (obj.get_val()))\n",
    "    print(\"count from class: %s\" % InstanceCounter.get_count())\n",
    "    print(\"count from instance: %s\" % obj.count)"
   ]
  },
  {
   "cell_type": "code",
   "execution_count": 34,
   "metadata": {},
   "outputs": [
    {
     "name": "stdout",
     "output_type": "stream",
     "text": [
      "5\n",
      "13\n",
      "0\n"
     ]
    }
   ],
   "source": [
    "class InstanceCounter(object):\n",
    "    count = 0\n",
    "    \n",
    "    def __init__(self, val):\n",
    "        self.val = self.filterint(val)\n",
    "        InstanceCounter.count += 1\n",
    "        \n",
    "    @staticmethod\n",
    "    def filterint(value):\n",
    "        if not isinstance(value, int):\n",
    "            return 0\n",
    "        else:\n",
    "            return value\n",
    "        \n",
    "a = InstanceCounter(5)\n",
    "b = InstanceCounter(13)\n",
    "c = InstanceCounter('hello')\n",
    "\n",
    "print(a.val)\n",
    "print(b.val)\n",
    "print(c.val)"
   ]
  },
  {
   "cell_type": "markdown",
   "metadata": {},
   "source": [
    "### Decorators; class and static methods\n",
    "\n",
    "- A class method takes the class (not instance) as argument and works with the class object\n",
    "- A static method requires no argument and does not work with the class or instance (but it still belongs in the class code)\n",
    "- A decorator is a processor that modifies a function\n",
    "- @classmethod and @staticmethod modify the default binding that instance methods provide\n",
    "\n",
    "### Abstract base classes\n",
    "\n",
    "- An abstract class is a kind of \"model\" for other classes to be defined. It is not designed to construct instances, but can be subclassed by regular classes\n",
    "- Abstract classes can define an interface, or methods that must be implemented by its subclasses.\n",
    "- The python abc module enables the creation of abstract base classes"
   ]
  },
  {
   "cell_type": "code",
   "execution_count": 35,
   "metadata": {},
   "outputs": [
    {
     "name": "stdout",
     "output_type": "stream",
     "text": [
      "<__main__.MyClass object at 0x000001E4B77B7400>\n"
     ]
    }
   ],
   "source": [
    "import abc\n",
    "\n",
    "class GetterSetter(object):\n",
    "    __metaclass__ = abc.ABCMeta\n",
    "    \n",
    "    @abc.abstractmethod\n",
    "    def set_val(self, input):\n",
    "        return\n",
    "    \n",
    "    @abc.abstractmethod\n",
    "    def get_val(self):\n",
    "        return\n",
    "    \n",
    "class MyClass(GetterSetter):\n",
    "    def set_val(self, input):\n",
    "        self.val = input\n",
    "        \n",
    "    def get_val(self):\n",
    "        return self.val\n",
    "    \n",
    "x = MyClass()\n",
    "print(x)"
   ]
  },
  {
   "cell_type": "markdown",
   "metadata": {},
   "source": [
    "### Inheritance examples\n",
    "\n",
    "- When working in a child class we can choose to implement parent class methods in different ways.\n",
    "- Inherit: simply use the parent class's defined method\n",
    "- Override/overload: provide child's own version of a method\n",
    "- Extend: do work in addition to that in parent's method\n",
    "- Provide: implement abstract method that parent requires."
   ]
  },
  {
   "cell_type": "markdown",
   "metadata": {},
   "source": [
    "### Composition vs Inheritance\n",
    "\n",
    "- Inheritance can be brittle (a change may require changes elsewhere)\n",
    "- Decoupled code is classes, functions, etc. that work independently and don't depend on one another.\n",
    "- As long as the interface is maintained, interactions between classes will work.\n",
    "- Not checking or requiring particular types is polymorphic and pythonic."
   ]
  },
  {
   "cell_type": "code",
   "execution_count": 39,
   "metadata": {},
   "outputs": [],
   "source": [
    "import random\n",
    "import StringIO\n",
    "\n",
    "class WriteMyStuff(object):\n",
    "    \n",
    "    def __init__(self, writer):\n",
    "        self.writer = writer\n",
    "        \n",
    "    def write(self):\n",
    "        write_text = \"this is a still message\"\n",
    "        self.writer.write(write_text)\n",
    "        \n",
    "fh = open('text.txt', 'w')\n",
    "w1 = WriteMyStuff(fh)\n",
    "w1.write()\n",
    "fh.close()\n",
    "\n",
    "sioh = StringIO.StringIO()\n",
    "w2 = WriteMyStuff(sioh)\n",
    "w2.write()"
   ]
  },
  {
   "cell_type": "code",
   "execution_count": 3,
   "metadata": {},
   "outputs": [
    {
     "name": "stdout",
     "output_type": "stream",
     "text": [
      "3\n"
     ]
    }
   ],
   "source": [
    "var = 1\n",
    "var2 = 2\n",
    "\n",
    "var = var.__add__(var2)\n",
    "print(var)"
   ]
  },
  {
   "cell_type": "code",
   "execution_count": 4,
   "metadata": {},
   "outputs": [
    {
     "name": "stdout",
     "output_type": "stream",
     "text": [
      "[101, 202, 303, 404, 505]\n"
     ]
    }
   ],
   "source": [
    "class SumList(object):\n",
    "    \n",
    "    def __init__(self, this_list):\n",
    "        self.mylist = this_list\n",
    "    \n",
    "    def __add__(self, other):\n",
    "        \n",
    "        new_list = [ x + y  for x, y in zip(self.mylist, other.mylist)]\n",
    "        return SumList(new_list)\n",
    "    \n",
    "    def __repr__(self):\n",
    "        return str(self.mylist)\n",
    "    \n",
    "cc = SumList([1,2,3,4,5])\n",
    "dd = SumList([100, 200, 300, 400, 500])\n",
    "\n",
    "ee = cc + dd\n",
    "print(ee)"
   ]
  },
  {
   "cell_type": "markdown",
   "metadata": {},
   "source": [
    "### Core syntax resolution\n",
    "\n",
    "- 'abc' in var : var.__contains__('abc')\n",
    "- var == 'abc' : var.__eq__('abc')\n",
    "- var[1] : var.__getitem__(1)\n",
    "- var[1:3] : var.__getslice__(1,3)\n",
    "- len(var) : var.__len__()\n",
    "- print(var) : var.__repr__()\n",
    "\n",
    "### Inheriting from built-ins\n",
    "\n",
    "- python lets our classes inherit from built-in classes\n",
    "- an inheriting (child) class of a built-in shares all the same attributes (including methods) of the built-in\n",
    "- we can take advantage of core built-in functionality, but customize selected operations\n",
    "- built-in behavior is familiar to all python developers - this can make use of our inheriting class easy to learn"
   ]
  },
  {
   "cell_type": "code",
   "execution_count": 6,
   "metadata": {},
   "outputs": [
    {
     "name": "stdout",
     "output_type": "stream",
     "text": [
      "setting a key and value!\n",
      "setting a key and value!\n",
      "a=5\n",
      "b=6\n"
     ]
    }
   ],
   "source": [
    "class MyDict(dict):\n",
    "    \n",
    "    def __setitem__(self, key, val):\n",
    "        print(\"setting a key and value!\")\n",
    "        dict.__setitem__(self, key, val)\n",
    "        \n",
    "dd = MyDict()\n",
    "dd['a'] = 5\n",
    "dd['b'] = 6\n",
    "\n",
    "for key in dd.keys():\n",
    "    print('{0}={1}'.format(key, dd[key]))"
   ]
  },
  {
   "cell_type": "markdown",
   "metadata": {},
   "source": [
    "### Attribute encapsulation?\n",
    "\n",
    "- Instance attributes can be changed anywhere to any value, breaking encapsulation\n",
    "- Getter and Setter methods encourage encapsulation, but are clunkier\n",
    "- Users are expected to \"do the right thing\"\n",
    "- Trusting the user is Pythonic\n",
    "\n",
    "### @property\n",
    "\n",
    "- @property is a decorator that designates an instance attribute as encapsulate-able through methods\n",
    "- getting, setting and deleting methods can be defined, called automatically when a user accesses the attribute.\n",
    "- the names are linked to the attribute name - the methods, and setter and deleter methods, must use it\n",
    "- @property offers some control, but don't try to force to user into certain behaviors - it's un-pythonic"
   ]
  },
  {
   "cell_type": "code",
   "execution_count": 7,
   "metadata": {},
   "outputs": [
    {
     "name": "stdout",
     "output_type": "stream",
     "text": [
      "setter\n",
      "getting\n",
      "1000\n",
      "deleting\n",
      "getting\n",
      "None\n"
     ]
    }
   ],
   "source": [
    "class GetSet(object):\n",
    "    \n",
    "    def __init__(self, value):\n",
    "        self.attrval = value\n",
    "        \n",
    "    @property\n",
    "    def var(self):\n",
    "        print('getting')\n",
    "        return self.attrval\n",
    "    \n",
    "    @var.setter\n",
    "    def var(self, value):\n",
    "        print('setter')\n",
    "        self.attrval = value\n",
    "        \n",
    "    @var.deleter\n",
    "    def var(self):\n",
    "        print('deleting')\n",
    "        self.attrval = None\n",
    "\n",
    "me = GetSet(5)\n",
    "\n",
    "me.var = 1000\n",
    "print(me.var)\n",
    "del me.var\n",
    "print(me.var)"
   ]
  },
  {
   "cell_type": "markdown",
   "metadata": {},
   "source": [
    "### @property: additional notes\n",
    "\n",
    "- @property should not encapsulate expensive operations, because attribute settings looks cheap\n",
    "- @property controls attributes that are expected, but can't control attributes that are unexpected.\n",
    "- __slot__ can define allowable attributes\n",
    "- saves memory by defining attributes ahead of time\n",
    "- should not be used to limit attributes (un-Pythonic!)\n",
    "\n",
    "### Variable naming: pep8\n",
    "\n",
    "- Module names : all_lower_case\n",
    "- Class names and exception names : CamelCase\n",
    "- Globals and locals : all_lower_case\n",
    "- Functions and method : all_lower_case\n",
    "- Constants : ALL_CAPS\n",
    "\n",
    "### Variable naming \"PUBLIC\" and \"PRIVATE\"\n",
    "\n",
    "- \"public\" attributes or variables (intened to be used by the importer of this module or use of this class): regular_lower_case\n",
    "- \"private\" attributes or variables (internal use by the module or class): _single_leading_underscore\n",
    "- \"private\" attributes that shouldn't be subclassed:  __double_leading_underscore\n",
    "- \"magic\" attributes: __double_underscore__ (use them, don't create them)\n"
   ]
  },
  {
   "cell_type": "code",
   "execution_count": 9,
   "metadata": {},
   "outputs": [
    {
     "name": "stdout",
     "output_type": "stream",
     "text": [
      "enter \"with\"\n",
      "hi, instance 4347654040 \n",
      "exit \"with\"\n",
      "after the \"with\" block\n"
     ]
    }
   ],
   "source": [
    "class MyClass(object):\n",
    "    \n",
    "    def __enter__(self):\n",
    "        print('enter \"with\"')\n",
    "        return self\n",
    "    \n",
    "    def __exit__(self, type, value, traceback):\n",
    "        print('exit \"with\"')\n",
    "        \n",
    "    def sayhi(self):\n",
    "        print('hi, instance %s ' % (id(self)))\n",
    "        \n",
    "with MyClass() as cc:\n",
    "    cc.sayhi()\n",
    "    \n",
    "print('after the \"with\" block')"
   ]
  },
  {
   "cell_type": "markdown",
   "metadata": {},
   "source": [
    "### __with__ context\n",
    "\n",
    "- some objects need to \"clean up\" when done\n",
    "- File object needs to close()\n",
    "- A network connection may need to close\n",
    "- A data-intensive operation may need to del the data\n",
    "- __with__ provides a block that \"clean up\" when exited\n",
    "- Can handle exceptions that occur within the block\n",
    "- Can also execute code when entered\n",
    "\n",
    "### New-style classes\n",
    "\n",
    "- Inherit from \"object\"\n",
    "- Can be constructed with default attributes from \"metaclass\" constructors\n",
    "- Allow the subclassing of built-ins\n",
    "- Allow the use of \"slots\" to define instance attributes\n",
    "- Use the \"C3\" MRO (method-resolution order)\n",
    "- Support \"descriptors\"\n",
    "- Are the only style of class in Python3\n",
    "\n",
    "### Object serialization\n",
    "\n",
    "- Serialization means persistent storage i.e., to disk\n",
    "- Relational storage writes data to tables (e.g., relational database text files)\n",
    "- Object-based storage stores objects as they are used in code (object databases)\n",
    "- Object-relational mappings can mediate between the two"
   ]
  }
 ],
 "metadata": {
  "kernelspec": {
   "display_name": "Python 3",
   "language": "python",
   "name": "python3"
  },
  "language_info": {
   "codemirror_mode": {
    "name": "ipython",
    "version": 3
   },
   "file_extension": ".py",
   "mimetype": "text/x-python",
   "name": "python",
   "nbconvert_exporter": "python",
   "pygments_lexer": "ipython3",
   "version": "3.7.1"
  }
 },
 "nbformat": 4,
 "nbformat_minor": 2
}
