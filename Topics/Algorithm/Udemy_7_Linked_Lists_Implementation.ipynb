{
 "cells": [
  {
   "cell_type": "code",
   "execution_count": 1,
   "metadata": {},
   "outputs": [],
   "source": [
    "class Node(object):\n",
    "    def __init__(self, value):\n",
    "        self.value = value\n",
    "        self.nextnode = None"
   ]
  },
  {
   "cell_type": "code",
   "execution_count": 2,
   "metadata": {},
   "outputs": [],
   "source": [
    "a = Node(1)"
   ]
  },
  {
   "cell_type": "code",
   "execution_count": 3,
   "metadata": {},
   "outputs": [],
   "source": [
    "b = Node(2)"
   ]
  },
  {
   "cell_type": "code",
   "execution_count": 4,
   "metadata": {},
   "outputs": [],
   "source": [
    "c = Node(3)"
   ]
  },
  {
   "cell_type": "code",
   "execution_count": 5,
   "metadata": {},
   "outputs": [],
   "source": [
    "a.nextnode = b\n",
    "b.nextnode = c"
   ]
  },
  {
   "cell_type": "code",
   "execution_count": 6,
   "metadata": {},
   "outputs": [
    {
     "data": {
      "text/plain": [
       "1"
      ]
     },
     "execution_count": 6,
     "metadata": {},
     "output_type": "execute_result"
    }
   ],
   "source": [
    "a.value"
   ]
  },
  {
   "cell_type": "code",
   "execution_count": 7,
   "metadata": {},
   "outputs": [
    {
     "data": {
      "text/plain": [
       "<__main__.Node at 0x1777b1062e8>"
      ]
     },
     "execution_count": 7,
     "metadata": {},
     "output_type": "execute_result"
    }
   ],
   "source": [
    "a.nextnode"
   ]
  },
  {
   "cell_type": "code",
   "execution_count": 8,
   "metadata": {},
   "outputs": [
    {
     "data": {
      "text/plain": [
       "2"
      ]
     },
     "execution_count": 8,
     "metadata": {},
     "output_type": "execute_result"
    }
   ],
   "source": [
    "a.nextnode.value"
   ]
  },
  {
   "cell_type": "code",
   "execution_count": 9,
   "metadata": {},
   "outputs": [],
   "source": [
    "class DoublyLinkedListNode(object):\n",
    "    def __init__(self, value):\n",
    "        self.value = value\n",
    "        self.next_node = None\n",
    "        self.prev_node = None"
   ]
  },
  {
   "cell_type": "code",
   "execution_count": 10,
   "metadata": {},
   "outputs": [],
   "source": [
    "a = DoublyLinkedListNode(1)\n",
    "b = DoublyLinkedListNode(2)\n",
    "c = DoublyLinkedListNode(3)"
   ]
  },
  {
   "cell_type": "code",
   "execution_count": 11,
   "metadata": {},
   "outputs": [],
   "source": [
    "a.next_node = c.prev_node = b\n",
    "b.prev_node = a\n",
    "b.next_node = c"
   ]
  },
  {
   "cell_type": "code",
   "execution_count": 32,
   "metadata": {},
   "outputs": [],
   "source": [
    "class DoublyLinkedList:\n",
    "    \n",
    "    class Node:\n",
    "        def __init__(self, data, prevNode, nextNode):\n",
    "            self.data = data\n",
    "            self.prevNode = prevNode\n",
    "            self.nextNode = nextNode\n",
    "            \n",
    "    def __init__(self, data=None):\n",
    "        self.first = None\n",
    "        self.last = None\n",
    "        self.count = 0\n",
    "        \n",
    "    def addFirst(self, data):\n",
    "        if self.count == 0:\n",
    "            self.first = self.Node(data, None, None)\n",
    "            self.last = self.first\n",
    "        elif self.count > 0:\n",
    "            node = self.Node(data, None, self.first)\n",
    "            self.first.prevNode = node\n",
    "            self.first = node\n",
    "            \n",
    "        self.current = self.first\n",
    "        self.count += 1\n",
    "    \n",
    "    def addLast(self, data):\n",
    "        if self.count == 0:\n",
    "            self.addFirst(0)\n",
    "        else:\n",
    "            self.last.nextNode = self.Node(data, self.last, None)\n",
    "            self.last = self.last.nextNode\n",
    "            self.count += 1\n",
    "   \n",
    "    def popFirst(self):\n",
    "        if self.count == 0:\n",
    "            raise RuntimeError(\"Can't pop from an empty linked list\")\n",
    "        result = self.first.data\n",
    "        if self.count == 1:\n",
    "            self.first = None\n",
    "            self.last = None\n",
    "        else:\n",
    "            self.first = self.first.nextNode\n",
    "            self.first.prevNode = None\n",
    "        self.count -= 1\n",
    "        return result\n",
    "\n",
    "            \n",
    "    def popLast(self):\n",
    "        if self.count == 0:\n",
    "            raise RuntimeError(\"Can't pop from an empty linked list\")\n",
    "        result = self.last.data\n",
    "        if self.count == 1:\n",
    "            self.first = None\n",
    "            self.last = None\n",
    "        else:\n",
    "            self.last = self.last.prevNode\n",
    "            self.last.nextNode = None\n",
    "        self.count -= 1\n",
    "        return result\n",
    "    \n",
    "    def __repr__(self):\n",
    "        result = \"\"\n",
    "        if self.count == 0:\n",
    "            return \"...\"\n",
    "        cursor = self.first\n",
    "        for i in range(self.count):\n",
    "            result += \"{}\".format(cursor.data)\n",
    "            cursor = cursor.nextNode\n",
    "            if cursor is not None:\n",
    "                result += \" --- \"\n",
    "        return result\n",
    "    \n",
    "    def __iter__(self):\n",
    "        return self\n",
    "    \n",
    "    def next(self):\n",
    "        if self.current is None:\n",
    "            self.current = self.first\n",
    "            raise StopIteration\n",
    "        else:\n",
    "            result = self.current.data\n",
    "            self.current = self.current.nextNode\n",
    "            return result\n",
    "    \n",
    "    def __len__(self):\n",
    "        return self.count\n"
   ]
  },
  {
   "cell_type": "code",
   "execution_count": 33,
   "metadata": {},
   "outputs": [
    {
     "name": "stdout",
     "output_type": "stream",
     "text": [
      "dog --- days --- of summer\n",
      "days --- of summer\n",
      "days\n"
     ]
    }
   ],
   "source": [
    "dll = DoublyLinkedList()\n",
    "\n",
    "dll.addFirst(\"days\")\n",
    "dll.addFirst(\"dog\")\n",
    "dll.addLast(\"of summer\")\n",
    " \n",
    "print(dll)\n",
    "dll.popFirst()\n",
    "print(dll)\n",
    "dll.popLast()\n",
    "print(dll)"
   ]
  },
  {
   "cell_type": "code",
   "execution_count": null,
   "metadata": {},
   "outputs": [],
   "source": []
  }
 ],
 "metadata": {
  "kernelspec": {
   "display_name": "Python 3",
   "language": "python",
   "name": "python3"
  },
  "language_info": {
   "codemirror_mode": {
    "name": "ipython",
    "version": 3
   },
   "file_extension": ".py",
   "mimetype": "text/x-python",
   "name": "python",
   "nbconvert_exporter": "python",
   "pygments_lexer": "ipython3",
   "version": "3.6.6"
  }
 },
 "nbformat": 4,
 "nbformat_minor": 2
}
