{
 "cells": [
  {
   "cell_type": "markdown",
   "metadata": {},
   "source": [
    "* http://ejklike.github.io/2018/01/09/traversing-a-binary-tree-1.html\n",
    "* http://ejklike.github.io/2018/01/09/traversing-a-binary-tree-2.html"
   ]
  },
  {
   "cell_type": "code",
   "execution_count": 1,
   "metadata": {},
   "outputs": [],
   "source": [
    "class Node(object):\n",
    "    def __init__(self, data):\n",
    "        self.data = data\n",
    "        self.left = self.right = None"
   ]
  },
  {
   "cell_type": "code",
   "execution_count": 7,
   "metadata": {},
   "outputs": [],
   "source": [
    "class BinarySearchTree(object):\n",
    "\n",
    "    def __init__(self):\n",
    "        self.root = None\n",
    "        \n",
    "    def insert(self, data):\n",
    "        self.root = self._insert_value(self.root, data)\n",
    "        return self.root is not None\n",
    "    \n",
    "    def _insert_value(self, node, data):\n",
    "        if node is None:\n",
    "            node = Node(data)\n",
    "        else:\n",
    "            if data <= node.data:\n",
    "                node.left = self._insert_value(node.left, data)\n",
    "            else:\n",
    "                node.right = self._insert_value(node.right, data)\n",
    "        return node\n",
    "    \n",
    "        \n",
    "    def find(self, key):\n",
    "        return self._find_value(self.root, key)\n",
    "    \n",
    "    def _find_value(self, root, key):\n",
    "        if root is None or root.data == key:\n",
    "            return root is not None\n",
    "        elif key < root.data:\n",
    "            return self._find_value(root.left, key)\n",
    "        else:\n",
    "            return self._find_value(root.right, key)\n",
    "        \n",
    "    def delete(self, key):\n",
    "        self.root, deleted = self._delete_value(self.root, key)\n",
    "        return deleted\n",
    "    \n",
    "    def _delete_value(self, node, key):\n",
    "        if node is None:\n",
    "            return node, False\n",
    "        \n",
    "        deleted = False\n",
    "        if key == node.data:\n",
    "            deleted = True\n",
    "            if node.left and node.right:\n",
    "                parent, child = node, node.right\n",
    "                while child.left is not None:\n",
    "                    parent, child = child, child.left\n",
    "                child.left = node.left\n",
    "                if parent != node:\n",
    "                    parent.left = child.right\n",
    "                    child.right = node.right\n",
    "                node = child\n",
    "            elif node.left or node.right:\n",
    "                node = node.left or node.right\n",
    "            else:\n",
    "                node = None\n",
    "        elif key < node.data:\n",
    "            node.left, deleted = self._delete_value(node.left, key)\n",
    "        else:\n",
    "            node.right, deleted = self._delete_value(node.right, key)\n",
    "        return node, deleted"
   ]
  },
  {
   "cell_type": "code",
   "execution_count": 8,
   "metadata": {},
   "outputs": [
    {
     "name": "stdout",
     "output_type": "stream",
     "text": [
      "True\n",
      "False\n",
      "True\n",
      "True\n",
      "False\n"
     ]
    }
   ],
   "source": [
    "array = [40, 4, 34, 45, 14, 55, 48, 13, 15, 49, 47]\n",
    "\n",
    "bst = BinarySearchTree()\n",
    "for x in array:\n",
    "    bst.insert(x)\n",
    "\n",
    "# Find\n",
    "print(bst.find(15)) # True\n",
    "print(bst.find(17)) # False\n",
    "\n",
    "# Delete\n",
    "print(bst.delete(55)) # True\n",
    "print(bst.delete(14)) # True\n",
    "print(bst.delete(11)) # False"
   ]
  },
  {
   "cell_type": "code",
   "execution_count": null,
   "metadata": {},
   "outputs": [],
   "source": []
  }
 ],
 "metadata": {
  "kernelspec": {
   "display_name": "Python 3",
   "language": "python",
   "name": "python3"
  },
  "language_info": {
   "codemirror_mode": {
    "name": "ipython",
    "version": 3
   },
   "file_extension": ".py",
   "mimetype": "text/x-python",
   "name": "python",
   "nbconvert_exporter": "python",
   "pygments_lexer": "ipython3",
   "version": "3.6.6"
  }
 },
 "nbformat": 4,
 "nbformat_minor": 2
}
