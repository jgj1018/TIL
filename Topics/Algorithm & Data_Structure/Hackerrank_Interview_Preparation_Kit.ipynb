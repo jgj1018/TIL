{
 "cells": [
  {
   "cell_type": "code",
   "execution_count": 1,
   "metadata": {},
   "outputs": [],
   "source": [
    "# Sock Merchant\n",
    "\n",
    "def sockMerchant(n, ar):\n",
    "    tmp_lst = {}\n",
    "    rtn = 0\n",
    "    for i in range(n):\n",
    "        if  ar[i] in tmp_lst:\n",
    "            rtn += 1\n",
    "            del tmp_lst[ar[i]]\n",
    "        else:\n",
    "            tmp_lst[ar[i]] = 1\n",
    "    return rtn"
   ]
  },
  {
   "cell_type": "code",
   "execution_count": 2,
   "metadata": {},
   "outputs": [],
   "source": [
    "# counting valleys\n",
    "\n",
    "def countingValleys(n, s):\n",
    "    rtn = 0\n",
    "    depth = 0\n",
    "    for i in s:\n",
    "        if i == 'D':\n",
    "            depth -= 1\n",
    "        else:\n",
    "            depth += 1\n",
    "        if depth == 0 and i == 'U':\n",
    "            rtn += 1\n",
    "    return rtn"
   ]
  },
  {
   "cell_type": "code",
   "execution_count": 3,
   "metadata": {},
   "outputs": [],
   "source": [
    "# Jumping on the Clouds\n",
    "\n",
    "def jumpingOnClouds(c):\n",
    "    max_idx = len(c) - 1\n",
    "    idx = 0\n",
    "    jump_cnt = 0\n",
    "    while idx < max_idx -1:\n",
    "        if c[idx + 2] == 0:\n",
    "            idx += 2\n",
    "            jump_cnt += 1\n",
    "        elif c[idx + 1] == 1:\n",
    "            idx += 2\n",
    "            jump_cnt += 1\n",
    "        else:\n",
    "            idx += 1\n",
    "            jump_cnt += 1\n",
    "    if idx != max_idx:\n",
    "        jump_cnt += 1\n",
    "    return jump_cnt"
   ]
  },
  {
   "cell_type": "code",
   "execution_count": 1,
   "metadata": {},
   "outputs": [],
   "source": [
    "#Repeated String\n",
    "from collections import Counter \n",
    "\n",
    "def repeatedString(s, n):\n",
    "    num = Counter(s)['a'] * (n // len(s))\n",
    "    num += Counter(s[:(n % len(s))])['a']\n",
    "    return num"
   ]
  },
  {
   "cell_type": "code",
   "execution_count": null,
   "metadata": {},
   "outputs": [],
   "source": [
    "# 2D Array - DS\n",
    "def hourglassSum(arr):\n",
    "    rtn_lst = []\n",
    "    for idx, ar in enumerate(arr):\n",
    "        if idx == 4: break\n",
    "        for i in range(4):\n",
    "            rtn_lst.append((arr[idx][i] + arr[idx][i+1] + arr[idx][i+2] + arr[idx+1][i+1] + arr[idx+2][i] + arr[idx+2][i+1] + arr[idx+2][i+2]))\n",
    "    return max(rtn_lst)\n",
    "\n",
    "# others\n",
    "print(max([sum(arr[i-1][j-1:j+2] + [arr[i][j]] + arr[i+1][j-1:j+2]) for j in range(1, 5) for i in range(1, 5)]))"
   ]
  },
  {
   "cell_type": "code",
   "execution_count": null,
   "metadata": {},
   "outputs": [],
   "source": [
    "# Strings: Making Anagrams\n",
    "\n",
    "from collections import Counter\n",
    "\n",
    "def makeAnagram(a, b):\n",
    "    return len(list((Counter(a) - Counter(b)).elements())) + len(list((Counter(b) - Counter(a)).elements()))"
   ]
  },
  {
   "cell_type": "code",
   "execution_count": null,
   "metadata": {},
   "outputs": [],
   "source": [
    "# Sorting: Bubble Sort\n",
    "\n",
    "def countSwaps(a):\n",
    "    cnt = 0\n",
    "    for i in range(len(a)):\n",
    "        for j in range(len(a) - 1):\n",
    "            if a[j] > a[j + 1]:\n",
    "                cnt += 1\n",
    "                a[j], a[j + 1] = a[j + 1], a[j]\n",
    "\n",
    "    print('Array is sorted in {} swaps.'.format(cnt))\n",
    "    print('First Element: {}'.format(a[0]))\n",
    "    print('Last Element: {}'.format(a[len(a) - 1]))"
   ]
  },
  {
   "cell_type": "code",
   "execution_count": null,
   "metadata": {},
   "outputs": [],
   "source": [
    "# sWAP cASE\n",
    "def swap_case(s):\n",
    "    return ''.join([c.lower() if c.isupper() else c.upper() for c in s])\n",
    "\n"
   ]
  }
 ],
 "metadata": {
  "kernelspec": {
   "display_name": "Python 3",
   "language": "python",
   "name": "python3"
  },
  "language_info": {
   "codemirror_mode": {
    "name": "ipython",
    "version": 3
   },
   "file_extension": ".py",
   "mimetype": "text/x-python",
   "name": "python",
   "nbconvert_exporter": "python",
   "pygments_lexer": "ipython3",
   "version": "3.7.1"
  }
 },
 "nbformat": 4,
 "nbformat_minor": 2
}
