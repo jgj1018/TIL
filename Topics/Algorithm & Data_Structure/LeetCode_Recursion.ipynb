{
 "cells": [
  {
   "cell_type": "code",
   "execution_count": 1,
   "metadata": {},
   "outputs": [],
   "source": [
    "class Solution(object):\n",
    "    def reverseString(self, s):\n",
    "                self.helper(0, s, len(s) - 1)\n",
    "    \n",
    "    def helper(self, idx, s, l):\n",
    "        if l < 1:\n",
    "            return\n",
    "        \n",
    "        x = idx\n",
    "        y = l - idx\n",
    "        \n",
    "        if x == y:\n",
    "            return\n",
    "        else:\n",
    "            s[x], s[y] = s[y], s[x]\n",
    "            if (y - x) == 1:\n",
    "                return\n",
    "        self.helper(x + 1, s, l)\n",
    "    \n",
    "    # c.f.\n",
    "    def reverseString(self, s):\n",
    "        return s[::-1]"
   ]
  },
  {
   "cell_type": "code",
   "execution_count": null,
   "metadata": {},
   "outputs": [],
   "source": [
    "# iteratively\n",
    "def swapPairs1(self, head):\n",
    "    if not head or not head.next:\n",
    "        return head\n",
    "    second = head.next \n",
    "    pre = ListNode(0)\n",
    "    while head and head.next:\n",
    "        nxt = head.next\n",
    "        head.next = nxt.next\n",
    "        nxt.next = head\n",
    "        pre.next = nxt\n",
    "        head = head.next\n",
    "        pre = nxt.next\n",
    "    return second\n",
    "\n",
    "# recursively    \n",
    "def swapPairs(self, head):\n",
    "    if not head or not head.next:\n",
    "        return head\n",
    "    second = head.next\n",
    "    head.next = self.swapPairs(second.next)\n",
    "    second.next = head\n",
    "    return second"
   ]
  }
 ],
 "metadata": {
  "kernelspec": {
   "display_name": "Python 3",
   "language": "python",
   "name": "python3"
  },
  "language_info": {
   "codemirror_mode": {
    "name": "ipython",
    "version": 3
   },
   "file_extension": ".py",
   "mimetype": "text/x-python",
   "name": "python",
   "nbconvert_exporter": "python",
   "pygments_lexer": "ipython3",
   "version": "3.7.1"
  }
 },
 "nbformat": 4,
 "nbformat_minor": 2
}
