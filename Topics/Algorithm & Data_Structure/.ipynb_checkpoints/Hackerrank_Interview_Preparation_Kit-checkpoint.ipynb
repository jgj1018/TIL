{
 "cells": [
  {
   "cell_type": "code",
   "execution_count": 1,
   "metadata": {},
   "outputs": [],
   "source": [
    "# Sock Merchant\n",
    "\n",
    "def sockMerchant(n, ar):\n",
    "    tmp_lst = {}\n",
    "    rtn = 0\n",
    "    for i in range(n):\n",
    "        if  ar[i] in tmp_lst:\n",
    "            rtn += 1\n",
    "            del tmp_lst[ar[i]]\n",
    "        else:\n",
    "            tmp_lst[ar[i]] = 1\n",
    "    return rtn"
   ]
  },
  {
   "cell_type": "code",
   "execution_count": 2,
   "metadata": {},
   "outputs": [],
   "source": [
    "# counting valleys\n",
    "\n",
    "def countingValleys(n, s):\n",
    "    rtn = 0\n",
    "    depth = 0\n",
    "    for i in s:\n",
    "        if i == 'D':\n",
    "            depth -= 1\n",
    "        else:\n",
    "            depth += 1\n",
    "        if depth == 0 and i == 'U':\n",
    "            rtn += 1\n",
    "    return rtn"
   ]
  },
  {
   "cell_type": "code",
   "execution_count": 3,
   "metadata": {},
   "outputs": [],
   "source": [
    "# Jumping on the Clouds\n",
    "\n",
    "def jumpingOnClouds(c):\n",
    "    max_idx = len(c) - 1\n",
    "    idx = 0\n",
    "    jump_cnt = 0\n",
    "    while idx < max_idx -1:\n",
    "        if c[idx + 2] == 0:\n",
    "            idx += 2\n",
    "            jump_cnt += 1\n",
    "        elif c[idx + 1] == 1:\n",
    "            idx += 2\n",
    "            jump_cnt += 1\n",
    "        else:\n",
    "            idx += 1\n",
    "            jump_cnt += 1\n",
    "    if idx != max_idx:\n",
    "        jump_cnt += 1\n",
    "    return jump_cnt"
   ]
  },
  {
   "cell_type": "code",
   "execution_count": null,
   "metadata": {},
   "outputs": [],
   "source": [
    "#Repeated String\n",
    "from collections import Counter \n",
    "\n",
    "def repeatedString(s, n):\n",
    "    num = Counter(s)['a'] * (n // len(s))\n",
    "    num += Counter(s[:(n % len(s))])['a']\n",
    "    return num"
   ]
  }
 ],
 "metadata": {
  "kernelspec": {
   "display_name": "Python 3",
   "language": "python",
   "name": "python3"
  },
  "language_info": {
   "codemirror_mode": {
    "name": "ipython",
    "version": 3
   },
   "file_extension": ".py",
   "mimetype": "text/x-python",
   "name": "python",
   "nbconvert_exporter": "python",
   "pygments_lexer": "ipython3",
   "version": "3.7.1"
  }
 },
 "nbformat": 4,
 "nbformat_minor": 2
}
