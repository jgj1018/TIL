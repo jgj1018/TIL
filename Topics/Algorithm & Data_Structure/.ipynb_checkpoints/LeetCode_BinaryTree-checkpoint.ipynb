{
 "cells": [
  {
   "cell_type": "code",
   "execution_count": null,
   "metadata": {},
   "outputs": [],
   "source": [
    "class Solution:\n",
    "    def preorderTraversal(self, root):\n",
    "        stack, res = [root], []\n",
    "        while stack:\n",
    "            node = stack.pop()\n",
    "            if node:\n",
    "                res.append(node.val)\n",
    "                stack.append(node.right)\n",
    "                stack.append(node.left)\n",
    "        return res"
   ]
  }
 ],
 "metadata": {
  "kernelspec": {
   "display_name": "Python 3",
   "language": "python",
   "name": "python3"
  },
  "language_info": {
   "codemirror_mode": {
    "name": "ipython",
    "version": 3
   },
   "file_extension": ".py",
   "mimetype": "text/x-python",
   "name": "python",
   "nbconvert_exporter": "python",
   "pygments_lexer": "ipython3",
   "version": "3.7.1"
  }
 },
 "nbformat": 4,
 "nbformat_minor": 2
}
