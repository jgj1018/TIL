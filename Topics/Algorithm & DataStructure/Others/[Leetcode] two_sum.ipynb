{
 "cells": [
  {
   "cell_type": "code",
   "execution_count": null,
   "metadata": {},
   "outputs": [],
   "source": [
    "# https://leetcode.com/problems/two-sum/\n",
    "\n",
    "class Solution(object):\n",
    "def twoSum(self, nums, target):\n",
    "    dic = {}\n",
    "    for i, n in enumerate(nums): \n",
    "        if n in dic:\n",
    "            return [dic[n], i]\n",
    "        dic[target-n] = i\n",
    "\n",
    "        \n",
    "class Solution:\n",
    "    def twoSum(self, nums: List[int], target: int) -> List[int]:\n",
    "        max_idx = len(nums) \n",
    "        for i in range(max_idx):\n",
    "            for j in range(i + 1, max_idx):\n",
    "                if nums[i] + nums[j] == target:\n",
    "                    return [i, j]"
   ]
  }
 ],
 "metadata": {
  "kernelspec": {
   "display_name": "Python 3",
   "language": "python",
   "name": "python3"
  },
  "language_info": {
   "codemirror_mode": {
    "name": "ipython",
    "version": 3
   },
   "file_extension": ".py",
   "mimetype": "text/x-python",
   "name": "python",
   "nbconvert_exporter": "python",
   "pygments_lexer": "ipython3",
   "version": "3.7.1"
  }
 },
 "nbformat": 4,
 "nbformat_minor": 2
}
